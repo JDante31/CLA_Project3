{
 "cells": [
  {
   "cell_type": "markdown",
   "id": "3c5220cd",
   "metadata": {},
   "source": [
    "<img src=\"Logo.png\" width=\"100\" align=\"left\"/> \n",
    "\n",
    "# <center> Unit 3 Project </center>\n",
    "#  <center> Fourth section : Conclusion </center>\n",
    "\n",
    "\n",
    "In this notebook you will be comparing the results of the two methods we used on the created testset. That is said: you will compare the results to the clustering with the results of the classification on the same test test and provide insights and explanation about the observed behaviour."
   ]
  },
  {
   "cell_type": "markdown",
   "id": "d7999942",
   "metadata": {},
   "source": [
    "For this final task you will need to : \n",
    "1. Load the testset data that you created all along this project \n",
    "2. For each cluster provide percentages about each actual/ predicted class contained with this cluster. Eg : cluster N°2 : is made of ( 50% class 2 and 50% class 3 ) from actual labels and ( 40 % predicted class 2 and 40% predicted class 3 + 20% predicted class 1) \n",
    "The above is just an example and is far away from the actual situation.\n",
    "\n",
    "3. Explain the behaviour and provide isights about it "
   ]
  },
  {
   "cell_type": "markdown",
   "id": "5ce7ef74",
   "metadata": {},
   "source": [
    "## 1.  Load the data: "
   ]
  },
  {
   "cell_type": "code",
   "execution_count": 7,
   "id": "db5d912f",
   "metadata": {},
   "outputs": [],
   "source": [
    "import pandas as pd "
   ]
  },
  {
   "cell_type": "code",
   "execution_count": 8,
   "id": "20df3761",
   "metadata": {},
   "outputs": [],
   "source": [
    "# To-Do : load the test summary data \n",
    "test_df = pd.read_csv(\"test_summary.csv\")"
   ]
  },
  {
   "cell_type": "code",
   "execution_count": 9,
   "id": "d4c27a63",
   "metadata": {},
   "outputs": [
    {
     "data": {
      "text/html": [
       "<div>\n",
       "<style scoped>\n",
       "    .dataframe tbody tr th:only-of-type {\n",
       "        vertical-align: middle;\n",
       "    }\n",
       "\n",
       "    .dataframe tbody tr th {\n",
       "        vertical-align: top;\n",
       "    }\n",
       "\n",
       "    .dataframe thead th {\n",
       "        text-align: right;\n",
       "    }\n",
       "</style>\n",
       "<table border=\"1\" class=\"dataframe\">\n",
       "  <thead>\n",
       "    <tr style=\"text-align: right;\">\n",
       "      <th></th>\n",
       "      <th>Age</th>\n",
       "      <th>Sex</th>\n",
       "      <th>ALB</th>\n",
       "      <th>ALP</th>\n",
       "      <th>ALT</th>\n",
       "      <th>AST</th>\n",
       "      <th>BIL</th>\n",
       "      <th>CHE</th>\n",
       "      <th>CHOL</th>\n",
       "      <th>CREA</th>\n",
       "      <th>GGT</th>\n",
       "      <th>PROT</th>\n",
       "      <th>Category</th>\n",
       "      <th>ID</th>\n",
       "      <th>cluster</th>\n",
       "      <th>Predicted_class</th>\n",
       "    </tr>\n",
       "  </thead>\n",
       "  <tbody>\n",
       "    <tr>\n",
       "      <th>0</th>\n",
       "      <td>55</td>\n",
       "      <td>1</td>\n",
       "      <td>28.1</td>\n",
       "      <td>65.5</td>\n",
       "      <td>16.6</td>\n",
       "      <td>17.5</td>\n",
       "      <td>2.8</td>\n",
       "      <td>5.58</td>\n",
       "      <td>4.39</td>\n",
       "      <td>65.0</td>\n",
       "      <td>26.2</td>\n",
       "      <td>62.4</td>\n",
       "      <td>0</td>\n",
       "      <td>249</td>\n",
       "      <td>3</td>\n",
       "      <td>0</td>\n",
       "    </tr>\n",
       "    <tr>\n",
       "      <th>1</th>\n",
       "      <td>39</td>\n",
       "      <td>0</td>\n",
       "      <td>31.4</td>\n",
       "      <td>106.0</td>\n",
       "      <td>16.6</td>\n",
       "      <td>17.0</td>\n",
       "      <td>2.4</td>\n",
       "      <td>5.95</td>\n",
       "      <td>5.30</td>\n",
       "      <td>68.0</td>\n",
       "      <td>22.9</td>\n",
       "      <td>72.3</td>\n",
       "      <td>0</td>\n",
       "      <td>366</td>\n",
       "      <td>3</td>\n",
       "      <td>0</td>\n",
       "    </tr>\n",
       "    <tr>\n",
       "      <th>2</th>\n",
       "      <td>48</td>\n",
       "      <td>0</td>\n",
       "      <td>43.7</td>\n",
       "      <td>50.1</td>\n",
       "      <td>17.3</td>\n",
       "      <td>26.3</td>\n",
       "      <td>8.1</td>\n",
       "      <td>8.15</td>\n",
       "      <td>5.38</td>\n",
       "      <td>64.0</td>\n",
       "      <td>13.4</td>\n",
       "      <td>73.1</td>\n",
       "      <td>0</td>\n",
       "      <td>433</td>\n",
       "      <td>3</td>\n",
       "      <td>0</td>\n",
       "    </tr>\n",
       "    <tr>\n",
       "      <th>3</th>\n",
       "      <td>62</td>\n",
       "      <td>0</td>\n",
       "      <td>32.0</td>\n",
       "      <td>416.6</td>\n",
       "      <td>5.9</td>\n",
       "      <td>110.3</td>\n",
       "      <td>50.0</td>\n",
       "      <td>5.57</td>\n",
       "      <td>6.30</td>\n",
       "      <td>55.7</td>\n",
       "      <td>650.9</td>\n",
       "      <td>68.5</td>\n",
       "      <td>4</td>\n",
       "      <td>611</td>\n",
       "      <td>2</td>\n",
       "      <td>4</td>\n",
       "    </tr>\n",
       "    <tr>\n",
       "      <th>4</th>\n",
       "      <td>44</td>\n",
       "      <td>1</td>\n",
       "      <td>35.5</td>\n",
       "      <td>81.7</td>\n",
       "      <td>27.5</td>\n",
       "      <td>29.5</td>\n",
       "      <td>6.4</td>\n",
       "      <td>8.81</td>\n",
       "      <td>6.65</td>\n",
       "      <td>83.0</td>\n",
       "      <td>24.1</td>\n",
       "      <td>68.0</td>\n",
       "      <td>0</td>\n",
       "      <td>133</td>\n",
       "      <td>3</td>\n",
       "      <td>0</td>\n",
       "    </tr>\n",
       "  </tbody>\n",
       "</table>\n",
       "</div>"
      ],
      "text/plain": [
       "   Age  Sex   ALB    ALP   ALT    AST   BIL   CHE  CHOL  CREA    GGT  PROT  \\\n",
       "0   55    1  28.1   65.5  16.6   17.5   2.8  5.58  4.39  65.0   26.2  62.4   \n",
       "1   39    0  31.4  106.0  16.6   17.0   2.4  5.95  5.30  68.0   22.9  72.3   \n",
       "2   48    0  43.7   50.1  17.3   26.3   8.1  8.15  5.38  64.0   13.4  73.1   \n",
       "3   62    0  32.0  416.6   5.9  110.3  50.0  5.57  6.30  55.7  650.9  68.5   \n",
       "4   44    1  35.5   81.7  27.5   29.5   6.4  8.81  6.65  83.0   24.1  68.0   \n",
       "\n",
       "   Category   ID  cluster  Predicted_class  \n",
       "0         0  249        3                0  \n",
       "1         0  366        3                0  \n",
       "2         0  433        3                0  \n",
       "3         4  611        2                4  \n",
       "4         0  133        3                0  "
      ]
     },
     "execution_count": 9,
     "metadata": {},
     "output_type": "execute_result"
    }
   ],
   "source": [
    "test_df.head()"
   ]
  },
  {
   "cell_type": "markdown",
   "id": "5a876830",
   "metadata": {},
   "source": [
    "## 2. Analysis: "
   ]
  },
  {
   "cell_type": "code",
   "execution_count": null,
   "id": "99732f39",
   "metadata": {},
   "outputs": [
    {
     "name": "stdout",
     "output_type": "stream",
     "text": [
      "    Cluster  Class  True_Percentage  Predicted_Percentage\n",
      "0         1      4           100.00                100.00\n",
      "1         2      0             0.00                 25.00\n",
      "2         2      1            25.00                  0.00\n",
      "3         2      2            25.00                  0.00\n",
      "4         2      3             0.00                 25.00\n",
      "5         2      4            50.00                 50.00\n",
      "6         3      0            93.98                 96.39\n",
      "7         3      2             3.61                  2.41\n",
      "8         3      3             1.20                  0.00\n",
      "9         3      4             1.20                  1.20\n",
      "10        4      0            51.43                 74.29\n",
      "11        4      1             5.71                  2.86\n",
      "12        4      2            14.29                  5.71\n",
      "13        4      3            14.29                  8.57\n",
      "14        4      4            14.29                  8.57\n"
     ]
    }
   ],
   "source": [
    "\n",
    "# Initialize an empty list to collect the results\n",
    "cluster_summary_list = []\n",
    "\n",
    "# Iterate through each unique cluster\n",
    "for cluster in sorted(test_df['cluster'].unique()):\n",
    "    # Get rows belonging to the current cluster\n",
    "    cluster_data = test_df[test_df['cluster'] == cluster]\n",
    "    \n",
    "    # Calculate the true class percentages (Category column)\n",
    "    true_class_percentages = cluster_data['Category'].value_counts(normalize=True) * 100\n",
    "    \n",
    "    # Calculate the predicted class percentages (Predicted_class column)\n",
    "    predicted_class_percentages = cluster_data['Predicted_class'].value_counts(normalize=True) * 100\n",
    "    \n",
    "    # Create rows for each class in the current cluster\n",
    "    all_classes = sorted(set(cluster_data['Category']).union(set(cluster_data['Predicted_class'])))\n",
    "    for cls in all_classes:\n",
    "        cluster_summary_list.append({\n",
    "            \"Cluster\": cluster,\n",
    "            \"Class\": cls,\n",
    "            \"True_Percentage\": true_class_percentages.get(cls, 0),\n",
    "            \"Predicted_Percentage\": predicted_class_percentages.get(cls, 0)\n",
    "        })\n",
    "\n",
    "# Convert the list of dictionaries into a DataFrame\n",
    "cluster_summary_df = pd.DataFrame(cluster_summary_list)\n",
    "cluster_summary_df = cluster_summary_df.round(2)\n",
    "\n",
    "# Display the final DataFrame\n",
    "print(cluster_summary_df)"
   ]
  },
  {
   "cell_type": "markdown",
   "id": "65b6139d",
   "metadata": {},
   "source": [
    "## 3. Explanations and isights :"
   ]
  },
  {
   "cell_type": "markdown",
   "id": "cecd4211",
   "metadata": {},
   "source": [
    "# in this section you should display analysis about each cluster and comment those one by one \n",
    "\n",
    "\n",
    "- Cluster 1: perfect prediction, 100%\n",
    "\n",
    "- Cluster 2: failed to predict class 1,2, predicted class 1 and 3 instead\n",
    "\n",
    "- Cluster 3: very accurate on class 0 and 4 deviations across the other classes. \n",
    "\n",
    "- Cluster 4: overpredicted class 0. Not very accurate \n"
   ]
  },
  {
   "cell_type": "markdown",
   "id": "c248cbad",
   "metadata": {},
   "source": [
    "## 4. Conclusion:\n",
    "\n",
    "Explain your findings and provide reasons for the behaviour."
   ]
  },
  {
   "cell_type": "markdown",
   "id": "1960e2d8",
   "metadata": {},
   "source": [
    "Insights:\n",
    "\n",
    "Good Predictions for Dominant Classes:\n",
    "In general, the model performs well in predicting the most frequent classes (e.g., Cluster 1 Class 4, Cluster 3 Class 0). In these cases, the true and predicted percentages match perfectly, showing the model’s ability to correctly classify well-represented classes.\n",
    "\n",
    "Challenges with Minor Classes:\n",
    "The model faces more difficulties with the less frequent classes, especially in Cluster 2 and Cluster 4, where the predicted class percentages do not align well with the true class percentages. This discrepancy is notable, especially for classes that are either overrepresented or underrepresented in the predictions compared to the true labels.\n",
    "\n",
    "\n",
    "Misclassification Patterns:\n",
    "There are consistent misclassification patterns in some clusters, such as Cluster 2 where classes are either misrepresented in the predictions or entirely missing. For example, Class 0 in Cluster 2 is predicted at 25%, while it has 0% in the true data.\n",
    "\n",
    "\n",
    "Possible Model Adjustments:\n",
    "The model may need to be fine-tuned or adjusted, particularly to handle minor classes more effectively. Techniques such as oversampling, undersampling, or adjusting class weights may help improve predictions for underrepresented classes."
   ]
  },
  {
   "cell_type": "markdown",
   "id": "9cea72af",
   "metadata": {},
   "source": []
  }
 ],
 "metadata": {
  "kernelspec": {
   "display_name": "Python 3",
   "language": "python",
   "name": "python3"
  },
  "language_info": {
   "codemirror_mode": {
    "name": "ipython",
    "version": 3
   },
   "file_extension": ".py",
   "mimetype": "text/x-python",
   "name": "python",
   "nbconvert_exporter": "python",
   "pygments_lexer": "ipython3",
   "version": "3.11.8"
  }
 },
 "nbformat": 4,
 "nbformat_minor": 5
}
